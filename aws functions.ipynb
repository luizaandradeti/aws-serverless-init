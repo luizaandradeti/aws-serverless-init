{
 "cells": [
  {
   "cell_type": "code",
   "execution_count": null,
   "metadata": {},
   "outputs": [],
   "source": [
    "import json\n",
    "\n",
    "import requests\n",
    "def lambda_handler():\n",
    "\n",
    "\n",
    "    cep = \"01.354-050\"\n",
    "\n",
    "    cep = cep.replace(\"-\", \"\").replace(\".\", \"\").replace(\" \", \"\")\n",
    "\n",
    "\n",
    "    link = f'https://viacep.com.br/ws/{cep}/json/'\n",
    "\n",
    "    requisicao = requests.get(link)\n",
    "\n",
    "    dicionario_requisicao = requisicao.json()\n",
    "\n",
    "    estado = dicionario_requisicao['estado']\n",
    "    cidade = dicionario_requisicao['localidade']\n",
    "    bairro = dicionario_requisicao['bairro']\n",
    "\n",
    "     \n",
    "\n",
    "    return {\n",
    "        print(requisicao),\n",
    "        print(dicionario_requisicao)\n",
    "    }\n",
    "lambda_handler()\n"
   ]
  },
  {
   "cell_type": "code",
   "execution_count": null,
   "metadata": {},
   "outputs": [],
   "source": []
  },
  {
   "cell_type": "code",
   "execution_count": null,
   "metadata": {},
   "outputs": [],
   "source": [
    "import json\n",
    "import boto3\n",
    "client=boto3.client('s3')\n",
    "\n",
    "def lambda_handler(event, context):\n",
    "    create_s3bucket=client.create_bucket(\n",
    "        Bucket='um1nomebucket',\n",
    "        CreateBucketConfiguration={\n",
    "            'LocationConstraint':'us-east-1'}\n",
    "         )\n",
    "         \n",
    "    print(create_s3bucket)\n",
    "\n",
    "import json\n",
    "import boto3\n",
    "client=boto3.client('s3')\n",
    "\n",
    "def lambda_handler(event, context):\n",
    "    create_s3bucket=client.create_bucket(\n",
    "        Bucket='dois2nomebucket',\n",
    "        CreateBucketConfiguration={\n",
    "            'LocationConstraint':'us-east-1'}\n",
    "         )\n",
    "         \n",
    "    print(create_s3bucket)"
   ]
  },
  {
   "cell_type": "code",
   "execution_count": null,
   "metadata": {},
   "outputs": [],
   "source": [
    "import json\n",
    "import boto3\n",
    "client=boto3.client('s3')\n",
    "\n",
    "def lambda_handler(event, context):\n",
    "    delete_bucket = client.delete_bucket(\n",
    "        Bucket='um1nomebucket'\n",
    "        )\n",
    "        \n",
    "    print(delete_bucket)   "
   ]
  }
 ],
 "metadata": {
  "instance_type": "ml.t3.medium",
  "kernelspec": {
   "display_name": "Python 3",
   "language": "python",
   "name": "python3"
  },
  "language_info": {
   "codemirror_mode": {
    "name": "ipython",
    "version": 3
   },
   "file_extension": ".py",
   "mimetype": "text/x-python",
   "name": "python",
   "nbconvert_exporter": "python",
   "pygments_lexer": "ipython3",
   "version": "3.13.2"
  }
 },
 "nbformat": 4,
 "nbformat_minor": 4
}
